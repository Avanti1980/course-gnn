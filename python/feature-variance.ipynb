{
 "cells": [
  {
   "cell_type": "code",
   "execution_count": 32,
   "metadata": {},
   "outputs": [
    {
     "data": {
      "text/plain": [
       "(4, 19)"
      ]
     },
     "execution_count": 32,
     "metadata": {},
     "output_type": "execute_result"
    }
   ],
   "source": [
    "import numpy as np\n",
    "from sklearn.feature_selection import VarianceThreshold\n",
    "\n",
    "X = np.array([\n",
    "    [1, 0, 0, 1, 0, 0, 1, 0, 1, 0, 0, 1, 0, 1, 0, 0, 1, 0.697, 0.460],\n",
    "    [2, 1, 0, 0, 0, 0, 1, 1, 0, 0, 0, 1, 0, 1, 0, 0, 1, 0.774, 0.376],\n",
    "    [3, 1, 0, 0, 0, 1, 0, 1, 0, 0, 0, 0, 1, 0, 0, 1, 1, 0.666, 0.091],\n",
    "    [4, 0, 1, 0, 1, 0, 0, 0, 0, 1, 1, 0, 0, 0, 1, 0, 1, 0.245, 0.057],\n",
    "])\n",
    "X.shape"
   ]
  },
  {
   "cell_type": "code",
   "execution_count": 31,
   "metadata": {},
   "outputs": [
    {
     "data": {
      "text/plain": [
       "array([[1.   , 0.   , 0.   , 1.   , 0.   , 0.   , 1.   , 0.   , 1.   ,\n",
       "        0.   , 0.   , 1.   , 0.   , 1.   , 0.   , 0.   , 0.697, 0.46 ],\n",
       "       [2.   , 1.   , 0.   , 0.   , 0.   , 0.   , 1.   , 1.   , 0.   ,\n",
       "        0.   , 0.   , 1.   , 0.   , 1.   , 0.   , 0.   , 0.774, 0.376],\n",
       "       [3.   , 1.   , 0.   , 0.   , 0.   , 1.   , 0.   , 1.   , 0.   ,\n",
       "        0.   , 0.   , 0.   , 1.   , 0.   , 0.   , 1.   , 0.666, 0.091],\n",
       "       [4.   , 0.   , 1.   , 0.   , 1.   , 0.   , 0.   , 0.   , 0.   ,\n",
       "        1.   , 1.   , 0.   , 0.   , 0.   , 1.   , 0.   , 0.245, 0.057]])"
      ]
     },
     "execution_count": 31,
     "metadata": {},
     "output_type": "execute_result"
    }
   ],
   "source": [
    "XX = VarianceThreshold(threshold=0.01).fit_transform(X)\n",
    "XX"
   ]
  },
  {
   "cell_type": "code",
   "execution_count": 30,
   "metadata": {},
   "outputs": [
    {
     "data": {
      "text/plain": [
       "(4, 18)"
      ]
     },
     "execution_count": 30,
     "metadata": {},
     "output_type": "execute_result"
    }
   ],
   "source": [
    "XX.shape"
   ]
  }
 ],
 "metadata": {
  "interpreter": {
   "hash": "e7370f93d1d0cde622a1f8e1c04877d8463912d04d973331ad4851f04de6915a"
  },
  "kernelspec": {
   "display_name": "Python 3.9.7 64-bit",
   "name": "python3"
  },
  "language_info": {
   "codemirror_mode": {
    "name": "ipython",
    "version": 3
   },
   "file_extension": ".py",
   "mimetype": "text/x-python",
   "name": "python",
   "nbconvert_exporter": "python",
   "pygments_lexer": "ipython3",
   "version": "3.9.7"
  },
  "orig_nbformat": 4
 },
 "nbformat": 4,
 "nbformat_minor": 2
}
