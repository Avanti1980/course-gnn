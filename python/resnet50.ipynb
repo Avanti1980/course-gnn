{
 "cells": [
  {
   "cell_type": "markdown",
   "metadata": {},
   "source": [
    "使用在ImageNet训练好的残差网络ResNet50进行图像分类"
   ]
  },
  {
   "cell_type": "code",
   "execution_count": 1,
   "metadata": {},
   "outputs": [
    {
     "data": {
      "text/plain": [
       "[('n03630383', 'lab_coat', 0.24623604),\n",
       " ('n03877472', 'pajama', 0.17045474),\n",
       " ('n04317175', 'stethoscope', 0.095500074),\n",
       " ('n04479046', 'trench_coat', 0.07988542),\n",
       " ('n03617480', 'kimono', 0.055965725),\n",
       " ('n02963159', 'cardigan', 0.045924157),\n",
       " ('n04325704', 'stole', 0.03374893),\n",
       " ('n03476991', 'hair_spray', 0.028442387),\n",
       " ('n02892767', 'brassiere', 0.02407221),\n",
       " ('n03594734', 'jean', 0.022733932)]"
      ]
     },
     "execution_count": 1,
     "metadata": {},
     "output_type": "execute_result"
    }
   ],
   "source": [
    "import os\n",
    "import numpy as np\n",
    "from tensorflow.keras.applications import resnet50\n",
    "from tensorflow.keras.preprocessing import image\n",
    "\n",
    "os.environ[\"TF_CPP_MIN_LOG_LEVEL\"] = \"2\"  # or any {'0', '1', '2'}\n",
    "\n",
    "model = resnet50.ResNet50(weights='imagenet')\n",
    "\n",
    "img = image.load_img('../common/img/tj224x224.jpg', target_size=(224, 224))\n",
    "\n",
    "# 增加通道数 RGB: (224, 224, 3) 灰度图: (224, 224, 1)\n",
    "x = image.img_to_array(img)\n",
    "\n",
    "x = np.expand_dims(x, axis=0)  # batch_size = 1\n",
    "x = resnet50.preprocess_input(x)  # 中心化\n",
    "\n",
    "preds = model.predict(x)\n",
    "resnet50.decode_predictions(preds, top=10)[0]\n"
   ]
  }
 ],
 "metadata": {
  "interpreter": {
   "hash": "e7370f93d1d0cde622a1f8e1c04877d8463912d04d973331ad4851f04de6915a"
  },
  "kernelspec": {
   "display_name": "Python 3.9.7 64-bit",
   "name": "python3"
  },
  "language_info": {
   "codemirror_mode": {
    "name": "ipython",
    "version": 3
   },
   "file_extension": ".py",
   "mimetype": "text/x-python",
   "name": "python",
   "nbconvert_exporter": "python",
   "pygments_lexer": "ipython3",
   "version": "3.9.7"
  },
  "orig_nbformat": 4
 },
 "nbformat": 4,
 "nbformat_minor": 2
}
