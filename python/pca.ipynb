{
 "cells": [
  {
   "cell_type": "code",
   "execution_count": 5,
   "metadata": {},
   "outputs": [
    {
     "name": "stdout",
     "output_type": "stream",
     "text": [
      "[0.61994982 0.29044141 0.08960877]\n"
     ]
    },
    {
     "data": {
      "text/plain": [
       "array([[-2.00117642, -0.8994997 , -0.60604575],\n",
       "       [-1.03113008,  0.31462009,  1.00575703],\n",
       "       [ 0.69000731,  1.72221775, -0.46027295],\n",
       "       [ 2.34229919, -1.13733814,  0.06056167]])"
      ]
     },
     "execution_count": 5,
     "metadata": {},
     "output_type": "execute_result"
    }
   ],
   "source": [
    "import numpy as np\n",
    "from sklearn.decomposition import PCA\n",
    "\n",
    "X = np.array([\n",
    "    [1, 0, 0, 1, 0, 0, 1, 0, 1, 0, 0, 1, 0, 1, 0, 0, 1, 0.697, 0.460],\n",
    "    [2, 1, 0, 0, 0, 0, 1, 1, 0, 0, 0, 1, 0, 1, 0, 0, 1, 0.774, 0.376],\n",
    "    [3, 1, 0, 0, 0, 1, 0, 1, 0, 0, 0, 0, 1, 0, 0, 1, 1, 0.666, 0.091],\n",
    "    [4, 0, 1, 0, 1, 0, 0, 0, 0, 1, 1, 0, 0, 0, 1, 0, 1, 0.245, 0.057],\n",
    "])\n",
    "\n",
    "pca = PCA(n_components=3)\n",
    "pca.fit(X)\n",
    "print(pca.explained_variance_ratio_)\n",
    "\n",
    "X = pca.transform(X)\n",
    "X"
   ]
  },
  {
   "cell_type": "code",
   "execution_count": 31,
   "metadata": {},
   "outputs": [
    {
     "data": {
      "text/plain": [
       "array([[1.   , 0.   , 0.   , 1.   , 0.   , 0.   , 1.   , 0.   , 1.   ,\n",
       "        0.   , 0.   , 1.   , 0.   , 1.   , 0.   , 0.   , 0.697, 0.46 ],\n",
       "       [2.   , 1.   , 0.   , 0.   , 0.   , 0.   , 1.   , 1.   , 0.   ,\n",
       "        0.   , 0.   , 1.   , 0.   , 1.   , 0.   , 0.   , 0.774, 0.376],\n",
       "       [3.   , 1.   , 0.   , 0.   , 0.   , 1.   , 0.   , 1.   , 0.   ,\n",
       "        0.   , 0.   , 0.   , 1.   , 0.   , 0.   , 1.   , 0.666, 0.091],\n",
       "       [4.   , 0.   , 1.   , 0.   , 1.   , 0.   , 0.   , 0.   , 0.   ,\n",
       "        1.   , 1.   , 0.   , 0.   , 0.   , 1.   , 0.   , 0.245, 0.057]])"
      ]
     },
     "execution_count": 31,
     "metadata": {},
     "output_type": "execute_result"
    }
   ],
   "source": [
    "XX = VarianceThreshold(threshold=0.01).fit_transform(X)\n",
    "XX"
   ]
  },
  {
   "cell_type": "code",
   "execution_count": 30,
   "metadata": {},
   "outputs": [
    {
     "data": {
      "text/plain": [
       "(4, 18)"
      ]
     },
     "execution_count": 30,
     "metadata": {},
     "output_type": "execute_result"
    }
   ],
   "source": [
    "XX.shape"
   ]
  }
 ],
 "metadata": {
  "interpreter": {
   "hash": "e7370f93d1d0cde622a1f8e1c04877d8463912d04d973331ad4851f04de6915a"
  },
  "kernelspec": {
   "display_name": "Python 3.9.7 64-bit",
   "name": "python3"
  },
  "language_info": {
   "codemirror_mode": {
    "name": "ipython",
    "version": 3
   },
   "file_extension": ".py",
   "mimetype": "text/x-python",
   "name": "python",
   "nbconvert_exporter": "python",
   "pygments_lexer": "ipython3",
   "version": "3.9.7"
  },
  "orig_nbformat": 4
 },
 "nbformat": 4,
 "nbformat_minor": 2
}
